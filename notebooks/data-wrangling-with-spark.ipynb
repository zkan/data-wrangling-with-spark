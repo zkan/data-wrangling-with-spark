{
 "cells": [
  {
   "cell_type": "code",
   "execution_count": 1,
   "id": "a47c90fe",
   "metadata": {},
   "outputs": [],
   "source": [
    "import pyspark"
   ]
  },
  {
   "cell_type": "code",
   "execution_count": 2,
   "id": "4193c33c",
   "metadata": {},
   "outputs": [],
   "source": [
    "sc = pyspark.SparkContext(\"local[*]\")"
   ]
  },
  {
   "cell_type": "code",
   "execution_count": 3,
   "id": "1c6a308d",
   "metadata": {},
   "outputs": [
    {
     "name": "stdout",
     "output_type": "stream",
     "text": [
      "[1, 3, 5, 7, 9]\n"
     ]
    }
   ],
   "source": [
    "big_list = range(10000)\n",
    "\n",
    "# parallelize() turns that iterator into a distributed set of numbers and gives you all the capability of Spark’s infrastructure.\n",
    "rdd = sc.parallelize(big_list, 2)\n",
    "\n",
    "odds = rdd.filter(lambda x: x % 2 != 0)\n",
    "print(odds.take(5))"
   ]
  },
  {
   "cell_type": "code",
   "execution_count": 4,
   "id": "7db36c20",
   "metadata": {},
   "outputs": [
    {
     "name": "stdout",
     "output_type": "stream",
     "text": [
      "20\n",
      "4\n"
     ]
    }
   ],
   "source": [
    "txt = sc.textFile('python-copyright.txt')\n",
    "print(txt.count())\n",
    "\n",
    "python_lines = txt.filter(lambda line: 'python' in line.lower())\n",
    "print(python_lines.count())"
   ]
  },
  {
   "cell_type": "code",
   "execution_count": null,
   "id": "c502bd87",
   "metadata": {},
   "outputs": [],
   "source": []
  }
 ],
 "metadata": {
  "kernelspec": {
   "display_name": "Python 3 (ipykernel)",
   "language": "python",
   "name": "python3"
  },
  "language_info": {
   "codemirror_mode": {
    "name": "ipython",
    "version": 3
   },
   "file_extension": ".py",
   "mimetype": "text/x-python",
   "name": "python",
   "nbconvert_exporter": "python",
   "pygments_lexer": "ipython3",
   "version": "3.9.7"
  }
 },
 "nbformat": 4,
 "nbformat_minor": 5
}
